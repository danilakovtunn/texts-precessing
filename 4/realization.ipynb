{
 "cells": [
  {
   "cell_type": "markdown",
   "metadata": {},
   "source": [
    "# Необходимые импорты"
   ]
  },
  {
   "cell_type": "code",
   "execution_count": 12,
   "metadata": {},
   "outputs": [],
   "source": [
    "from sklearn.feature_extraction.text import CountVectorizer, TfidfVectorizer\n",
    "from sklearn import neighbors\n",
    "from sklearn.metrics import accuracy_score\n",
    "from cross_val import knn_cv_score, kfold_split\n",
    "\n",
    "import numpy as np\n",
    "import json\n",
    "import pickle"
   ]
  },
  {
   "cell_type": "markdown",
   "metadata": {},
   "source": [
    "# Загрузка данных"
   ]
  },
  {
   "cell_type": "code",
   "execution_count": 6,
   "metadata": {},
   "outputs": [],
   "source": [
    "with open('dev-dataset-task2022-04.json', 'rb') as f:\n",
    "    data = json.load(f)"
   ]
  },
  {
   "cell_type": "code",
   "execution_count": 18,
   "metadata": {},
   "outputs": [],
   "source": [
    "X = np.array([elem[0] for elem in data])\n",
    "y = np.array([elem[1] for elem in data])"
   ]
  },
  {
   "cell_type": "markdown",
   "metadata": {},
   "source": [
    "# Инициализация нормализаторов"
   ]
  },
  {
   "cell_type": "code",
   "execution_count": 25,
   "metadata": {},
   "outputs": [],
   "source": [
    "count_vec = CountVectorizer(max_df=0.8, min_df=10)\n",
    "tf_idf = TfidfVectorizer(max_df=0.8, min_df=10)"
   ]
  },
  {
   "cell_type": "markdown",
   "metadata": {},
   "source": [
    "# Кросс-валидация"
   ]
  },
  {
   "cell_type": "code",
   "execution_count": 28,
   "metadata": {},
   "outputs": [],
   "source": [
    "parameters = {\n",
    "    'n_neighbors': [i for i in range(1, 11)],\n",
    "    'metrics': ['euclidean', 'cosine'],\n",
    "    'weights': ['uniform', 'distance'],\n",
    "    'normalizers': [(count_vec, 'CountVectorizer'), (tf_idf, 'TfidfVectorizer')]\n",
    "}"
   ]
  },
  {
   "cell_type": "code",
   "execution_count": 29,
   "metadata": {},
   "outputs": [
    {
     "data": {
      "text/plain": [
       "{('CountVectorizer', 1, 'euclidean', 'uniform'): 0.6515792910727595,\n",
       " ('CountVectorizer', 1, 'euclidean', 'distance'): 0.6515792910727595,\n",
       " ('CountVectorizer', 1, 'cosine', 'uniform'): 0.8033039581501711,\n",
       " ('CountVectorizer', 1, 'cosine', 'distance'): 0.8033039581501711,\n",
       " ('CountVectorizer', 2, 'euclidean', 'uniform'): 0.596352562194393,\n",
       " ('CountVectorizer', 2, 'euclidean', 'distance'): 0.6494067274476819,\n",
       " ('CountVectorizer', 2, 'cosine', 'uniform'): 0.766073278736567,\n",
       " ('CountVectorizer', 2, 'cosine', 'distance'): 0.8026832256858634,\n",
       " ('CountVectorizer', 3, 'euclidean', 'uniform'): 0.5640860118285302,\n",
       " ('CountVectorizer', 3, 'euclidean', 'distance'): 0.6177655246573858,\n",
       " ('CountVectorizer', 3, 'cosine', 'uniform'): 0.7545920357025007,\n",
       " ('CountVectorizer', 3, 'cosine', 'distance'): 0.7961684192551672,\n",
       " ('CountVectorizer', 4, 'euclidean', 'uniform'): 0.5668746928066568,\n",
       " ('CountVectorizer', 4, 'euclidean', 'distance'): 0.6428878827946345,\n",
       " ('CountVectorizer', 4, 'cosine', 'uniform'): 0.7468351874542816,\n",
       " ('CountVectorizer', 4, 'cosine', 'distance'): 0.7905824039653037,\n",
       " ('CountVectorizer', 5, 'euclidean', 'uniform'): 0.5603558481536093,\n",
       " ('CountVectorizer', 5, 'euclidean', 'distance'): 0.6366822888182777,\n",
       " ('CountVectorizer', 5, 'cosine', 'uniform'): 0.74125090283114,\n",
       " ('CountVectorizer', 5, 'cosine', 'distance'): 0.7843785406556688,\n",
       " ('CountVectorizer', 6, 'euclidean', 'uniform'): 0.5591120756693643,\n",
       " ('CountVectorizer', 6, 'euclidean', 'distance'): 0.6345091483042927,\n",
       " ('CountVectorizer', 6, 'cosine', 'uniform'): 0.7390766085393403,\n",
       " ('CountVectorizer', 6, 'cosine', 'distance'): 0.7794126809412059,\n",
       " ('CountVectorizer', 7, 'euclidean', 'uniform'): 0.5535277910462226,\n",
       " ('CountVectorizer', 7, 'euclidean', 'distance'): 0.6255114120163651,\n",
       " ('CountVectorizer', 7, 'cosine', 'uniform'): 0.7344222688348461,\n",
       " ('CountVectorizer', 7, 'cosine', 'distance'): 0.7707258877743395,\n",
       " ('CountVectorizer', 8, 'euclidean', 'uniform'): 0.5488717206750061,\n",
       " ('CountVectorizer', 8, 'euclidean', 'distance'): 0.6158935201530371,\n",
       " ('CountVectorizer', 8, 'cosine', 'uniform'): 0.7319404927554292,\n",
       " ('CountVectorizer', 8, 'cosine', 'distance'): 0.767932591684954,\n",
       " ('CountVectorizer', 9, 'euclidean', 'uniform'): 0.5432845516073279,\n",
       " ('CountVectorizer', 9, 'euclidean', 'distance'): 0.6072044194305414,\n",
       " ('CountVectorizer', 9, 'cosine', 'uniform'): 0.7241859520628393,\n",
       " ('CountVectorizer', 9, 'cosine', 'distance'): 0.759558472305871,\n",
       " ('CountVectorizer', 10, 'euclidean', 'uniform'): 0.5355271264702014,\n",
       " ('CountVectorizer', 10, 'euclidean', 'distance'): 0.5978945862437379,\n",
       " ('CountVectorizer', 10, 'cosine', 'uniform'): 0.7198385172570547,\n",
       " ('CountVectorizer', 10, 'cosine', 'distance'): 0.7558317699643945,\n",
       " ('TfidfVectorizer', 1, 'euclidean', 'uniform'): 0.5371049176318018,\n",
       " ('TfidfVectorizer', 1, 'euclidean', 'distance'): 0.5371049176318018,\n",
       " ('TfidfVectorizer', 1, 'cosine', 'uniform'): 0.8337071573452957,\n",
       " ('TfidfVectorizer', 1, 'cosine', 'distance'): 0.8337071573452957,\n",
       " ('TfidfVectorizer', 2, 'euclidean', 'uniform'): 0.43782464423261086,\n",
       " ('TfidfVectorizer', 2, 'euclidean', 'distance'): 0.5343116215424163,\n",
       " ('TfidfVectorizer', 2, 'cosine', 'uniform'): 0.793686066286843,\n",
       " ('TfidfVectorizer', 2, 'cosine', 'distance'): 0.8330864248809879,\n",
       " ('TfidfVectorizer', 3, 'euclidean', 'uniform'): 0.3748381826614885,\n",
       " ('TfidfVectorizer', 3, 'euclidean', 'distance'): 0.4654437775608676,\n",
       " ('TfidfVectorizer', 3, 'cosine', 'uniform'): 0.7825151894849305,\n",
       " ('TfidfVectorizer', 3, 'cosine', 'distance'): 0.821606335624736,\n",
       " ('TfidfVectorizer', 4, 'euclidean', 'uniform'): 0.38941674223911354,\n",
       " ('TfidfVectorizer', 4, 'euclidean', 'distance'): 0.5281037200104302,\n",
       " ('TfidfVectorizer', 4, 'cosine', 'uniform'): 0.7753779199232046,\n",
       " ('TfidfVectorizer', 4, 'cosine', 'distance'): 0.8141598536086708,\n",
       " ('TfidfVectorizer', 5, 'euclidean', 'uniform'): 0.38072821840552523,\n",
       " ('TfidfVectorizer', 5, 'euclidean', 'distance'): 0.5178610574604428,\n",
       " ('TfidfVectorizer', 5, 'cosine', 'uniform'): 0.7691717490579405,\n",
       " ('TfidfVectorizer', 5, 'cosine', 'distance'): 0.8051632710985579,\n",
       " ('TfidfVectorizer', 6, 'euclidean', 'uniform'): 0.3791740796891261,\n",
       " ('TfidfVectorizer', 6, 'euclidean', 'distance'): 0.516619592531827,\n",
       " ('TfidfVectorizer', 6, 'cosine', 'uniform'): 0.7666899729785236,\n",
       " ('TfidfVectorizer', 6, 'cosine', 'distance'): 0.8001985651619097,\n",
       " ('TfidfVectorizer', 7, 'euclidean', 'uniform'): 0.3720362332384928,\n",
       " ('TfidfVectorizer', 7, 'euclidean', 'distance'): 0.5085512242736392,\n",
       " ('TfidfVectorizer', 7, 'cosine', 'uniform'): 0.7623471532839977,\n",
       " ('TfidfVectorizer', 7, 'cosine', 'distance'): 0.7955459561241373,\n",
       " ('TfidfVectorizer', 8, 'euclidean', 'uniform'): 0.36831010778592344,\n",
       " ('TfidfVectorizer', 8, 'euclidean', 'distance'): 0.4992408141979283,\n",
       " ('TfidfVectorizer', 8, 'cosine', 'uniform'): 0.7545897281468713,\n",
       " ('TfidfVectorizer', 8, 'cosine', 'distance'): 0.7921336582371659,\n",
       " ('TfidfVectorizer', 9, 'euclidean', 'uniform'): 0.36551854236326,\n",
       " ('TfidfVectorizer', 9, 'euclidean', 'distance'): 0.4942761082612799,\n",
       " ('TfidfVectorizer', 9, 'cosine', 'uniform'): 0.7480754986050827,\n",
       " ('TfidfVectorizer', 9, 'cosine', 'distance'): 0.7865511042807464,\n",
       " ('TfidfVectorizer', 10, 'euclidean', 'uniform'): 0.3630367662838432,\n",
       " ('TfidfVectorizer', 10, 'euclidean', 'distance'): 0.4886918236381384,\n",
       " ('TfidfVectorizer', 10, 'cosine', 'uniform'): 0.7424883295374043,\n",
       " ('TfidfVectorizer', 10, 'cosine', 'distance'): 0.7809645121019756}"
      ]
     },
     "execution_count": 29,
     "metadata": {},
     "output_type": "execute_result"
    }
   ],
   "source": [
    "folds = kfold_split(X.shape[0], 6)\n",
    "out = knn_cv_score(X, y, parameters, accuracy_score, folds, neighbors.KNeighborsClassifier)\n",
    "out"
   ]
  },
  {
   "cell_type": "code",
   "execution_count": 30,
   "metadata": {},
   "outputs": [
    {
     "data": {
      "text/plain": [
       "(0.8337071573452957, ('TfidfVectorizer', 1, 'cosine', 'uniform'))"
      ]
     },
     "execution_count": 30,
     "metadata": {},
     "output_type": "execute_result"
    }
   ],
   "source": [
    "max([(out[i], i) for i in out])"
   ]
  },
  {
   "cell_type": "markdown",
   "metadata": {},
   "source": [
    "# Создание модели с лучшими параметрами"
   ]
  },
  {
   "cell_type": "code",
   "execution_count": 32,
   "metadata": {},
   "outputs": [
    {
     "data": {
      "text/plain": [
       "KNeighborsClassifier(metric='cosine', n_neighbors=1, weights='distance')"
      ]
     },
     "execution_count": 32,
     "metadata": {},
     "output_type": "execute_result"
    }
   ],
   "source": [
    "scaler = TfidfVectorizer(max_df=0.8, min_df=10)\n",
    "scaler.fit(X)\n",
    "X_tf = scaler.transform(X)\n",
    "\n",
    "knn = neighbors.KNeighborsClassifier(metric='cosine', n_neighbors=1, weights='distance')\n",
    "knn.fit(X_tf, y)"
   ]
  },
  {
   "cell_type": "markdown",
   "metadata": {},
   "source": [
    "# Сохранение данных"
   ]
  },
  {
   "cell_type": "code",
   "execution_count": 33,
   "metadata": {},
   "outputs": [],
   "source": [
    "with open('knn.pkl', 'wb') as f:\n",
    "    pickle.dump(knn, f)\n",
    "\n",
    "with open('normalizer.pkl', 'wb') as f:\n",
    "    pickle.dump(scaler, f)\n",
    "\n",
    "with open('X.pkl', 'wb') as f:\n",
    "    pickle.dump(X, f)\n",
    "\n",
    "with open('y.pkl', 'wb') as f:\n",
    "    pickle.dump(y, f)"
   ]
  },
  {
   "cell_type": "code",
   "execution_count": null,
   "metadata": {},
   "outputs": [],
   "source": []
  }
 ],
 "metadata": {
  "kernelspec": {
   "display_name": "Python 3.8.0 64-bit",
   "language": "python",
   "name": "python3"
  },
  "language_info": {
   "codemirror_mode": {
    "name": "ipython",
    "version": 3
   },
   "file_extension": ".py",
   "mimetype": "text/x-python",
   "name": "python",
   "nbconvert_exporter": "python",
   "pygments_lexer": "ipython3",
   "version": "3.8.0"
  },
  "orig_nbformat": 4,
  "vscode": {
   "interpreter": {
    "hash": "604628d2719fd283e1f8d51ef93436f33b0d89f8198165442588855efe9829f8"
   }
  }
 },
 "nbformat": 4,
 "nbformat_minor": 2
}
